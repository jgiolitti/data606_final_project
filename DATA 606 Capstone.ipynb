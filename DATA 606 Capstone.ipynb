{
 "cells": [
  {
   "cell_type": "markdown",
   "id": "1ad3e1a1-37c3-41c0-a67b-a23354c6b7b5",
   "metadata": {},
   "source": [
    "# Dietary Restriction AI"
   ]
  },
  {
   "cell_type": "markdown",
   "id": "091265f6-d3fe-4ba5-9d34-dfc963f6b428",
   "metadata": {},
   "source": [
    "### Import Packages"
   ]
  },
  {
   "cell_type": "code",
   "execution_count": 1,
   "id": "79b3ddd4-15fb-4ac8-8bb2-32fabc64f30b",
   "metadata": {},
   "outputs": [
    {
     "name": "stdout",
     "output_type": "stream",
     "text": [
      "Requirement already satisfied: langchain_community in ./lib/python3.13/site-packages (0.3.20)\n",
      "Requirement already satisfied: langchain-core<1.0.0,>=0.3.45 in ./lib/python3.13/site-packages (from langchain_community) (0.3.47)\n",
      "Requirement already satisfied: langchain<1.0.0,>=0.3.21 in ./lib/python3.13/site-packages (from langchain_community) (0.3.21)\n",
      "Requirement already satisfied: SQLAlchemy<3,>=1.4 in ./lib/python3.13/site-packages (from langchain_community) (2.0.39)\n",
      "Requirement already satisfied: requests<3,>=2 in ./lib/python3.13/site-packages (from langchain_community) (2.32.3)\n",
      "Requirement already satisfied: PyYAML>=5.3 in ./lib/python3.13/site-packages (from langchain_community) (6.0.2)\n",
      "Requirement already satisfied: aiohttp<4.0.0,>=3.8.3 in ./lib/python3.13/site-packages (from langchain_community) (3.11.14)\n",
      "Requirement already satisfied: tenacity!=8.4.0,<10,>=8.1.0 in ./lib/python3.13/site-packages (from langchain_community) (9.0.0)\n",
      "Requirement already satisfied: dataclasses-json<0.7,>=0.5.7 in ./lib/python3.13/site-packages (from langchain_community) (0.6.7)\n",
      "Requirement already satisfied: pydantic-settings<3.0.0,>=2.4.0 in ./lib/python3.13/site-packages (from langchain_community) (2.8.1)\n",
      "Requirement already satisfied: langsmith<0.4,>=0.1.125 in ./lib/python3.13/site-packages (from langchain_community) (0.3.18)\n",
      "Requirement already satisfied: httpx-sse<1.0.0,>=0.4.0 in ./lib/python3.13/site-packages (from langchain_community) (0.4.0)\n",
      "Requirement already satisfied: numpy<3,>=1.26.2 in ./lib/python3.13/site-packages (from langchain_community) (2.2.4)\n",
      "Requirement already satisfied: aiohappyeyeballs>=2.3.0 in ./lib/python3.13/site-packages (from aiohttp<4.0.0,>=3.8.3->langchain_community) (2.6.1)\n",
      "Requirement already satisfied: aiosignal>=1.1.2 in ./lib/python3.13/site-packages (from aiohttp<4.0.0,>=3.8.3->langchain_community) (1.3.2)\n",
      "Requirement already satisfied: attrs>=17.3.0 in ./lib/python3.13/site-packages (from aiohttp<4.0.0,>=3.8.3->langchain_community) (25.3.0)\n",
      "Requirement already satisfied: frozenlist>=1.1.1 in ./lib/python3.13/site-packages (from aiohttp<4.0.0,>=3.8.3->langchain_community) (1.5.0)\n",
      "Requirement already satisfied: multidict<7.0,>=4.5 in ./lib/python3.13/site-packages (from aiohttp<4.0.0,>=3.8.3->langchain_community) (6.2.0)\n",
      "Requirement already satisfied: propcache>=0.2.0 in ./lib/python3.13/site-packages (from aiohttp<4.0.0,>=3.8.3->langchain_community) (0.3.0)\n",
      "Requirement already satisfied: yarl<2.0,>=1.17.0 in ./lib/python3.13/site-packages (from aiohttp<4.0.0,>=3.8.3->langchain_community) (1.18.3)\n",
      "Requirement already satisfied: marshmallow<4.0.0,>=3.18.0 in ./lib/python3.13/site-packages (from dataclasses-json<0.7,>=0.5.7->langchain_community) (3.26.1)\n",
      "Requirement already satisfied: typing-inspect<1,>=0.4.0 in ./lib/python3.13/site-packages (from dataclasses-json<0.7,>=0.5.7->langchain_community) (0.9.0)\n",
      "Requirement already satisfied: langchain-text-splitters<1.0.0,>=0.3.7 in ./lib/python3.13/site-packages (from langchain<1.0.0,>=0.3.21->langchain_community) (0.3.7)\n",
      "Requirement already satisfied: pydantic<3.0.0,>=2.7.4 in ./lib/python3.13/site-packages (from langchain<1.0.0,>=0.3.21->langchain_community) (2.10.6)\n",
      "Requirement already satisfied: jsonpatch<2.0,>=1.33 in ./lib/python3.13/site-packages (from langchain-core<1.0.0,>=0.3.45->langchain_community) (1.33)\n",
      "Requirement already satisfied: packaging<25,>=23.2 in ./lib/python3.13/site-packages (from langchain-core<1.0.0,>=0.3.45->langchain_community) (24.2)\n",
      "Requirement already satisfied: typing-extensions>=4.7 in ./lib/python3.13/site-packages (from langchain-core<1.0.0,>=0.3.45->langchain_community) (4.12.2)\n",
      "Requirement already satisfied: httpx<1,>=0.23.0 in ./lib/python3.13/site-packages (from langsmith<0.4,>=0.1.125->langchain_community) (0.28.1)\n",
      "Requirement already satisfied: orjson<4.0.0,>=3.9.14 in ./lib/python3.13/site-packages (from langsmith<0.4,>=0.1.125->langchain_community) (3.10.15)\n",
      "Requirement already satisfied: requests-toolbelt<2.0.0,>=1.0.0 in ./lib/python3.13/site-packages (from langsmith<0.4,>=0.1.125->langchain_community) (1.0.0)\n",
      "Requirement already satisfied: zstandard<0.24.0,>=0.23.0 in ./lib/python3.13/site-packages (from langsmith<0.4,>=0.1.125->langchain_community) (0.23.0)\n",
      "Requirement already satisfied: python-dotenv>=0.21.0 in ./lib/python3.13/site-packages (from pydantic-settings<3.0.0,>=2.4.0->langchain_community) (1.0.1)\n",
      "Requirement already satisfied: charset-normalizer<4,>=2 in ./lib/python3.13/site-packages (from requests<3,>=2->langchain_community) (3.4.1)\n",
      "Requirement already satisfied: idna<4,>=2.5 in ./lib/python3.13/site-packages (from requests<3,>=2->langchain_community) (3.10)\n",
      "Requirement already satisfied: urllib3<3,>=1.21.1 in ./lib/python3.13/site-packages (from requests<3,>=2->langchain_community) (2.3.0)\n",
      "Requirement already satisfied: certifi>=2017.4.17 in ./lib/python3.13/site-packages (from requests<3,>=2->langchain_community) (2025.1.31)\n",
      "Requirement already satisfied: anyio in ./lib/python3.13/site-packages (from httpx<1,>=0.23.0->langsmith<0.4,>=0.1.125->langchain_community) (4.9.0)\n",
      "Requirement already satisfied: httpcore==1.* in ./lib/python3.13/site-packages (from httpx<1,>=0.23.0->langsmith<0.4,>=0.1.125->langchain_community) (1.0.7)\n",
      "Requirement already satisfied: h11<0.15,>=0.13 in ./lib/python3.13/site-packages (from httpcore==1.*->httpx<1,>=0.23.0->langsmith<0.4,>=0.1.125->langchain_community) (0.14.0)\n",
      "Requirement already satisfied: jsonpointer>=1.9 in ./lib/python3.13/site-packages (from jsonpatch<2.0,>=1.33->langchain-core<1.0.0,>=0.3.45->langchain_community) (3.0.0)\n",
      "Requirement already satisfied: annotated-types>=0.6.0 in ./lib/python3.13/site-packages (from pydantic<3.0.0,>=2.7.4->langchain<1.0.0,>=0.3.21->langchain_community) (0.7.0)\n",
      "Requirement already satisfied: pydantic-core==2.27.2 in ./lib/python3.13/site-packages (from pydantic<3.0.0,>=2.7.4->langchain<1.0.0,>=0.3.21->langchain_community) (2.27.2)\n",
      "Requirement already satisfied: mypy-extensions>=0.3.0 in ./lib/python3.13/site-packages (from typing-inspect<1,>=0.4.0->dataclasses-json<0.7,>=0.5.7->langchain_community) (1.0.0)\n",
      "Requirement already satisfied: sniffio>=1.1 in ./lib/python3.13/site-packages (from anyio->httpx<1,>=0.23.0->langsmith<0.4,>=0.1.125->langchain_community) (1.3.1)\n",
      "Note: you may need to restart the kernel to use updated packages.\n"
     ]
    }
   ],
   "source": [
    "pip install langchain_community"
   ]
  },
  {
   "cell_type": "code",
   "execution_count": 2,
   "id": "801761ad-47ed-4c9c-9a4b-6af9e01ccb17",
   "metadata": {},
   "outputs": [
    {
     "name": "stdout",
     "output_type": "stream",
     "text": [
      "Requirement already satisfied: pandas in ./lib/python3.13/site-packages (2.2.3)\n",
      "Requirement already satisfied: numpy>=1.26.0 in ./lib/python3.13/site-packages (from pandas) (2.2.4)\n",
      "Requirement already satisfied: python-dateutil>=2.8.2 in ./lib/python3.13/site-packages (from pandas) (2.9.0.post0)\n",
      "Requirement already satisfied: pytz>=2020.1 in ./lib/python3.13/site-packages (from pandas) (2025.2)\n",
      "Requirement already satisfied: tzdata>=2022.7 in ./lib/python3.13/site-packages (from pandas) (2025.2)\n",
      "Requirement already satisfied: six>=1.5 in ./lib/python3.13/site-packages (from python-dateutil>=2.8.2->pandas) (1.17.0)\n",
      "Note: you may need to restart the kernel to use updated packages.\n"
     ]
    }
   ],
   "source": [
    "pip install pandas"
   ]
  },
  {
   "cell_type": "code",
   "execution_count": 3,
   "id": "b93f92c7-ee95-446d-a858-e597259663e9",
   "metadata": {},
   "outputs": [
    {
     "name": "stdout",
     "output_type": "stream",
     "text": [
      "Requirement already satisfied: pyspark in ./lib/python3.13/site-packages (3.5.5)\n",
      "Requirement already satisfied: py4j==0.10.9.7 in ./lib/python3.13/site-packages (from pyspark) (0.10.9.7)\n",
      "Note: you may need to restart the kernel to use updated packages.\n"
     ]
    }
   ],
   "source": [
    "pip install pyspark"
   ]
  },
  {
   "cell_type": "code",
   "execution_count": 4,
   "id": "64719282-84b7-4436-bd5a-f97f0f48c0bb",
   "metadata": {},
   "outputs": [],
   "source": [
    "from langchain_community.llms import Ollama\n",
    "import os\n",
    "import json\n",
    "import pandas as pd \n",
    "import tempfile \n",
    "from pyspark.sql import SparkSession"
   ]
  },
  {
   "cell_type": "markdown",
   "id": "c70eb509-6c06-4a9a-8b04-9f7e8ab0b747",
   "metadata": {},
   "source": [
    "### Initialize a Spark Session"
   ]
  },
  {
   "cell_type": "code",
   "execution_count": 5,
   "id": "0671e03d-62f0-4163-b30d-416cd736952d",
   "metadata": {},
   "outputs": [
    {
     "name": "stderr",
     "output_type": "stream",
     "text": [
      "Setting default log level to \"WARN\".\n",
      "To adjust logging level use sc.setLogLevel(newLevel). For SparkR, use setLogLevel(newLevel).\n",
      "25/03/29 11:20:55 WARN NativeCodeLoader: Unable to load native-hadoop library for your platform... using builtin-java classes where applicable\n"
     ]
    }
   ],
   "source": [
    "spark = SparkSession.builder \\\n",
    "    .appName(\"Local Spark\") \\\n",
    "    .config(\"spark.driver.memory\", \"4g\") \\\n",
    "    .config(\"spark.executor.memory\", \"4g\") \\\n",
    "    .getOrCreate()"
   ]
  },
  {
   "cell_type": "markdown",
   "id": "2d449c04-4af1-4a23-9f32-cd5d3f71d46d",
   "metadata": {},
   "source": [
    "### Data Ingestion"
   ]
  },
  {
   "cell_type": "code",
   "execution_count": 6,
   "id": "0ca3b909-a451-4be2-afe3-81c23be6c989",
   "metadata": {},
   "outputs": [
    {
     "name": "stderr",
     "output_type": "stream",
     "text": [
      "25/03/29 11:21:00 WARN TaskSetManager: Stage 0 contains a task of very large size (16937 KiB). The maximum recommended task size is 1000 KiB.\n",
      "                                                                                "
     ]
    },
    {
     "name": "stdout",
     "output_type": "stream",
     "text": [
      "+--------------------+--------------------+--------------------+--------------------+--------------------+\n",
      "|                  id|        instructions|         ingredients|               title|        picture_link|\n",
      "+--------------------+--------------------+--------------------+--------------------+--------------------+\n",
      "|QN5CYubunXaDelXyw...|In a blender, com...|[1 (14.5-ounce) c...|     Virgin Daiquiri|                NULL|\n",
      "|hKM.NJ24HSFF1GkQB...|1. Whisk the chil...|[1/2 cup chili po...|Chili BBQ'd Chick...|                NULL|\n",
      "|rtPpWjYBQBuNXsFtA...|Make batter: In a...|[1 cup plus 2 tab...|Individual Yorksh...|                NULL|\n",
      "|zm9UAJsjPjmAU6r7J...|Place all the fil...|[1 1/2 cups chopp...|     Lobster Ravioli|                NULL|\n",
      "|sJWOvBHePd88CbaQG...|Preheat a grill t...|[3 ears corn, 1 s...|Avocado and Grill...|n9xn6z4PPJboIDlB0...|\n",
      "|R3TxL4huVQliNiDW4...|Preheat oven to 4...|[3 tablespoons ca...|Spinach and Potat...|                NULL|\n",
      "|ixEoBXuptWDGZo.gB...|Mix the BBQ Pulle...|[1 cup BBQ Pulled...|     BBQ Pork Burger|LLyojhBzIiiYTe1f4...|\n",
      "|6NLbWgfc.hipb6.L/...|Watch how to make...|[2 1/2 cups cooke...|Layered Picnic-in...|GQTZBJHEgA6krif8I...|\n",
      "|MGFNLnJnyGji6Gf6N...|For the crumb top...|[1 1/2 cups pecan...|Orange Spiced Cru...|0nRezYRcstX5oRayh...|\n",
      "|bw8RRyQygwNbxEiw5...|Preheat the oven ...|[1 recipe fresh p...|Bacon, Potato, Ro...|pAdaPaA3hPqfZSe8W...|\n",
      "|I0fmRFQ.Vm9l7eciH...|Watch how to make...|[1/4 cup plus 2 t...|Warm Butternut Sq...|xHgpbyU6tbFyTULOE...|\n",
      "|p7RZneTaXCJZmHEPa...|Watch how to make...|[1 cup light brow...|           Pecan Pie|SAnIH9xKFRToqdi0f...|\n",
      "|Y9wPC4GWW6C/4uqd4...|Dice the lobsters...|[2 (1 1/2 pound) ...|Lobster Ceviche w...|                NULL|\n",
      "|rz7ez6dAWa08pX/Th...|Toss the berries,...|[1 (10-ounce) con...|Berries with Masc...|                NULL|\n",
      "|EkJoqPGbHq6LFHLcV...|Layer the pork an...|[1 medium onion, ...|Slow Cooker Pork ...|fPp1sTyiWsMMWh9pl...|\n",
      "|G33m4crdMnLKpImXc...|Peel and dice fru...|[Granny Smith app...|       Poached Fruit|                NULL|\n",
      "|4/efq7QolIB7zuYF6...|Peel, core and ch...|[6 honey crisp ap...|\"Pre Game Jitter ...|k6ww9nX4dDcUK1m.o...|\n",
      "|Mr5IH6eWCdBfSWoea...|Bring a large pot...|[Salt and freshly...| Pasta with Lavender|                NULL|\n",
      "|/A/l9SipE7OC4lN6l...|Heat the oven to ...|[Extra-virgin oli...|     Neapolitan Ragu|u5k78RJPbCojVV04w...|\n",
      "|5OeY4ONhDl7kZwAMq...|For the crusts: S...|[1 cup all-purpos...|Coconut Flan Tart...|                NULL|\n",
      "+--------------------+--------------------+--------------------+--------------------+--------------------+\n",
      "only showing top 20 rows\n",
      "\n"
     ]
    }
   ],
   "source": [
    "all_files = os.listdir(\"./\")\n",
    "recipe_files = [file for file in all_files if \"recipes_raw_nosource\" in file]\n",
    "\n",
    "df_list = []\n",
    "\n",
    "for file_name in recipe_files: \n",
    "    temp_path = os.path.join(tempfile.gettempdir(), file_name)\n",
    "    \n",
    "    with open(file_name, \"r\", encoding=\"utf-8\") as file:\n",
    "        data = json.load(file)\n",
    "\n",
    "    file_df = pd.DataFrame.from_dict(data, orient=\"index\")\n",
    "    df_list.append(file_df)  # Collect DataFrame\n",
    "    \n",
    "# Concatenate all dataframes\n",
    "df = pd.concat(df_list)\n",
    "df = df.reset_index().rename(columns={\"index\": \"id\"})\n",
    "\n",
    "# repartition the dataframe \n",
    "df_spark = spark.createDataFrame(df)\n",
    "df_spark = df_spark.repartition(100)\n",
    "\n",
    "df_spark.show()"
   ]
  },
  {
   "cell_type": "markdown",
   "id": "9dfad24a-4aec-4f48-ba0f-2bfef85add07",
   "metadata": {},
   "source": [
    "### Model Ingestion"
   ]
  },
  {
   "cell_type": "code",
   "execution_count": 7,
   "id": "c19a6894-7770-40b9-86af-e8aa267853c4",
   "metadata": {},
   "outputs": [
    {
     "data": {
      "text/plain": [
       "DataFrame[id: string, instructions: string, ingredients: array<string>, title: string, picture_link: string]"
      ]
     },
     "execution_count": 7,
     "metadata": {},
     "output_type": "execute_result"
    }
   ],
   "source": [
    "df_spark.unpersist()"
   ]
  },
  {
   "cell_type": "code",
   "execution_count": 8,
   "id": "bf308122-2a1b-4b1c-9b61-f06468801082",
   "metadata": {},
   "outputs": [
    {
     "name": "stdout",
     "output_type": "stream",
     "text": [
      "Loaded Model\n"
     ]
    },
    {
     "name": "stderr",
     "output_type": "stream",
     "text": [
      "/var/folders/2l/vxt6rlxn46s5z8qm6j10lrg00000gp/T/ipykernel_6927/4125328510.py:1: LangChainDeprecationWarning: The class `Ollama` was deprecated in LangChain 0.3.1 and will be removed in 1.0.0. An updated version of the class exists in the :class:`~langchain-ollama package and should be used instead. To use it run `pip install -U :class:`~langchain-ollama` and import as `from :class:`~langchain_ollama import OllamaLLM``.\n",
      "  llm = Ollama(model=\"llama3.2\")\n"
     ]
    }
   ],
   "source": [
    "llm = Ollama(model=\"llama3.2\")\n",
    "print(\"Loaded Model\")"
   ]
  },
  {
   "cell_type": "code",
   "execution_count": 9,
   "id": "87cf625c-bc74-48f6-a035-23f37b1a4d5b",
   "metadata": {},
   "outputs": [
    {
     "name": "stdout",
     "output_type": "stream",
     "text": [
      "To modify the pancake recipe to suit a high-protein, low-carb diet, we'll make some key changes:\n",
      "\n",
      "1. Replace all-purpose flour with an almond flour-based mixture: Almond flour is a good source of protein and has a lower carb content compared to traditional flour.\n",
      "2. Use protein-rich milk alternative: We'll replace regular milk with unsweetened almond milk or another low-carb milk alternative, such as coconut milk.\n",
      "3. Add more protein-rich ingredients: Introduce some protein powder (e.g., whey or pea) to boost the protein content of each pancake.\n",
      "\n",
      "Here's the modified recipe:\n",
      "\n",
      "Ingredients:\n",
      "\n",
      "* 1 ½ cups almond flour\n",
      "* 3 ½ teaspoons baking powder (make sure it's sugar-free)\n",
      "* 1 tablespoon coconut sugar (or another low-carb sweetener)\n",
      "* ¼ teaspoon salt\n",
      "* 1/4 cup protein powder (whey or pea-based)\n",
      "* 1 ¼ cups unsweetened almond milk\n",
      "* 3 tablespoons melted butter\n",
      "* 1 large egg\n",
      "\n",
      "Directions:\n",
      "\n",
      "1. Sift the almond flour, baking powder, coconut sugar, and salt together in a large bowl.\n",
      "2. Make a well in the center of the mixture and add the protein powder, almond milk, and melted butter; mix until smooth.\n",
      "3. Add the egg to the mixture and mix until combined.\n",
      "4. Heat a lightly oiled griddle or pan over medium-high heat.\n",
      "5. Pour or scoop the batter onto the griddle using approximately 1/4 cup for each pancake; cook until bubbles form and the edges are dry, about 2 to 3 minutes.\n",
      "6. Flip and cook until browned on the other side.\n",
      "\n",
      "Analysis:\n",
      "\n",
      "Per serving (assuming 8-10 pancakes):\n",
      "\n",
      "* Calories: 220-250\n",
      "* Protein: 30-35 grams (depending on protein powder used)\n",
      "* Fat: 12-15g\n",
      "* Carbohydrates: 5-7g (mostly from almond flour and natural sweeteners)\n",
      "* Fiber: 2-3g\n",
      "\n",
      "Note: The macronutrient analysis is an estimate, as the exact values will depend on the specific ingredients and portion sizes used.\n",
      "\n",
      "This modified recipe should provide a good balance of protein, healthy fats, and low-carb carbohydrates, making it suitable for a high-protein, low-carb diet. However, be sure to consult with a healthcare professional or registered dietitian before making significant changes to your diet.\n"
     ]
    }
   ],
   "source": [
    "recipe = \"\"\" \n",
    "Ingredients\n",
    "1 ½ cups all-purpose flour, 3 ½ teaspoons baking powder, 1 tablespoon white sugar, ¼ teaspoon salt, or more to taste, \n",
    "1 ¼ cups milk, 3 tablespoons butter, melted, 1 large egg\n",
    "\n",
    "Directions\n",
    "Sift flour, baking powder, sugar, and salt together in a large bowl. Make a well in the center and add milk, melted butter, and egg; mix until smooth.\n",
    "\n",
    "Heat a lightly oiled griddle or pan over medium-high heat. Pour or scoop the batter onto the griddle, using approximately 1/4 cup for each pancake; cook until bubbles form and the edges are dry, about 2 to 3 minutes. Flip and cook until browned on the other side. Repeat with remaining batter.\"\n",
    "\n",
    "\"\"\"\n",
    "prompt_append = \" Modify this recipe so that it is more suited for a high-protein, low carb diet. Provide a list of macronutrients as a part of the analysis.\" \n",
    "prompt = recipe + prompt_append\n",
    "\n",
    "response = llm.invoke(prompt)\n",
    "print(response)"
   ]
  },
  {
   "cell_type": "code",
   "execution_count": null,
   "id": "8918dd7f-fc23-4a7c-a47d-d4021ad30bec",
   "metadata": {},
   "outputs": [],
   "source": []
  }
 ],
 "metadata": {
  "kernelspec": {
   "display_name": "Python 3 (ipykernel)",
   "language": "python",
   "name": "python3"
  },
  "language_info": {
   "codemirror_mode": {
    "name": "ipython",
    "version": 3
   },
   "file_extension": ".py",
   "mimetype": "text/x-python",
   "name": "python",
   "nbconvert_exporter": "python",
   "pygments_lexer": "ipython3",
   "version": "3.13.2"
  }
 },
 "nbformat": 4,
 "nbformat_minor": 5
}
